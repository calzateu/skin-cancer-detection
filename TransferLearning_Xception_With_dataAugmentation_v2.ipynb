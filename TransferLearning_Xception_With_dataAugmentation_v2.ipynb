{
  "nbformat": 4,
  "nbformat_minor": 0,
  "metadata": {
    "colab": {
      "provenance": []
    },
    "kernelspec": {
      "name": "python3",
      "display_name": "Python 3"
    },
    "language_info": {
      "name": "python"
    },
    "accelerator": "GPU",
    "gpuClass": "standard"
  },
  "cells": [
    {
      "cell_type": "code",
      "source": [
        "!pip install --upgrade tensorflow"
      ],
      "metadata": {
        "id": "yhVv3MCumpSV"
      },
      "execution_count": null,
      "outputs": []
    },
    {
      "cell_type": "code",
      "source": [
        "from google.colab import drive\n",
        "drive.mount('/content/gdrive')"
      ],
      "metadata": {
        "id": "fUykoQmBWg77",
        "colab": {
          "base_uri": "https://localhost:8080/"
        },
        "outputId": "f9f9cf11-2b8d-401c-e91f-d8efb00d6bac"
      },
      "execution_count": null,
      "outputs": [
        {
          "output_type": "stream",
          "name": "stdout",
          "text": [
            "Mounted at /content/gdrive\n"
          ]
        }
      ]
    },
    {
      "cell_type": "markdown",
      "source": [
        "Instanciando la red pre-entrenada Xception para aplicarla a la BD con expansión de imágenes pero esta vez con entonación fina"
      ],
      "metadata": {
        "id": "Rs7nhDZ10rMd"
      }
    },
    {
      "cell_type": "code",
      "source": [
        "from tensorflow import keras\n",
        "from tensorflow.keras import layers\n",
        "import matplotlib.pyplot as plt\n",
        "from keras import regularizers\n",
        "\n",
        "from sklearn import metrics\n",
        "from mlxtend.plotting import plot_confusion_matrix"
      ],
      "metadata": {
        "id": "PnebUFVw0Kte"
      },
      "execution_count": null,
      "outputs": []
    },
    {
      "cell_type": "code",
      "source": [
        "conv_base  = keras.applications.xception.Xception(\n",
        "    weights=\"imagenet\",\n",
        "    include_top=False)"
      ],
      "metadata": {
        "colab": {
          "base_uri": "https://localhost:8080/"
        },
        "id": "-wYMtKYQPHQ5",
        "outputId": "307e9994-0ce6-4e04-b720-2f0693b80e25"
      },
      "execution_count": null,
      "outputs": [
        {
          "output_type": "stream",
          "name": "stdout",
          "text": [
            "Downloading data from https://storage.googleapis.com/tensorflow/keras-applications/xception/xception_weights_tf_dim_ordering_tf_kernels_notop.h5\n",
            "83683744/83683744 [==============================] - 4s 0us/step\n"
          ]
        }
      ]
    },
    {
      "cell_type": "code",
      "source": [
        "!unzip /content/gdrive/MyDrive/TRABAJO/Trabajos_ciencia_de_datos/Clasificacion_imagenes/Dataset_final.zip"
      ],
      "metadata": {
        "id": "oA5lVLU31I02"
      },
      "execution_count": null,
      "outputs": []
    },
    {
      "cell_type": "markdown",
      "source": [
        "Ajustando los datos de la BD\n"
      ],
      "metadata": {
        "id": "Traq4jcP1SZn"
      }
    },
    {
      "cell_type": "code",
      "source": [
        "from tensorflow.keras.utils import image_dataset_from_directory\n",
        "\n",
        "train_dataset = image_dataset_from_directory(\n",
        "    'Dataset_final/Train',\n",
        "    image_size=(180, 180),\n",
        "    batch_size=32,\n",
        "    label_mode='categorical',\n",
        ")\n",
        "validation_dataset = image_dataset_from_directory(\n",
        "    'Dataset_final/Train_val',\n",
        "    image_size=(180, 180),\n",
        "    batch_size=32,\n",
        "    label_mode='categorical',\n",
        ")\n",
        "test_dataset = image_dataset_from_directory(\n",
        "    'Dataset_final/Test',\n",
        "    image_size=(180, 180),\n",
        "    batch_size=32,\n",
        "    label_mode='categorical',\n",
        ")"
      ],
      "metadata": {
        "colab": {
          "base_uri": "https://localhost:8080/"
        },
        "id": "MC8JnOS71Spb",
        "outputId": "0548235f-7e0e-4427-e37c-4778b8bda57a"
      },
      "execution_count": null,
      "outputs": [
        {
          "output_type": "stream",
          "name": "stdout",
          "text": [
            "Found 1145 files belonging to 4 classes.\n",
            "Found 488 files belonging to 4 classes.\n",
            "Found 64 files belonging to 4 classes.\n"
          ]
        }
      ]
    },
    {
      "cell_type": "markdown",
      "source": [
        "La fase de entrenamiento podrá alterar los pesos de las 4 últimas capas"
      ],
      "metadata": {
        "id": "FAmJSaxQ0eRO"
      }
    },
    {
      "cell_type": "code",
      "source": [
        "conv_base.trainable = True\n",
        "for layer in conv_base.layers[:-4]:\n",
        "    layer.trainable = False"
      ],
      "metadata": {
        "id": "5g7g7s0-0eab"
      },
      "execution_count": null,
      "outputs": []
    },
    {
      "cell_type": "code",
      "source": [
        "conv_base.summary()"
      ],
      "metadata": {
        "colab": {
          "base_uri": "https://localhost:8080/"
        },
        "id": "2QENghSc28AQ",
        "outputId": "25588580-fb62-4127-904b-cd92908b101e"
      },
      "execution_count": null,
      "outputs": [
        {
          "output_type": "stream",
          "name": "stdout",
          "text": [
            "Model: \"xception\"\n",
            "__________________________________________________________________________________________________\n",
            " Layer (type)                   Output Shape         Param #     Connected to                     \n",
            "==================================================================================================\n",
            " input_1 (InputLayer)           [(None, None, None,  0           []                               \n",
            "                                 3)]                                                              \n",
            "                                                                                                  \n",
            " block1_conv1 (Conv2D)          (None, None, None,   864         ['input_1[0][0]']                \n",
            "                                32)                                                               \n",
            "                                                                                                  \n",
            " block1_conv1_bn (BatchNormaliz  (None, None, None,   128        ['block1_conv1[0][0]']           \n",
            " ation)                         32)                                                               \n",
            "                                                                                                  \n",
            " block1_conv1_act (Activation)  (None, None, None,   0           ['block1_conv1_bn[0][0]']        \n",
            "                                32)                                                               \n",
            "                                                                                                  \n",
            " block1_conv2 (Conv2D)          (None, None, None,   18432       ['block1_conv1_act[0][0]']       \n",
            "                                64)                                                               \n",
            "                                                                                                  \n",
            " block1_conv2_bn (BatchNormaliz  (None, None, None,   256        ['block1_conv2[0][0]']           \n",
            " ation)                         64)                                                               \n",
            "                                                                                                  \n",
            " block1_conv2_act (Activation)  (None, None, None,   0           ['block1_conv2_bn[0][0]']        \n",
            "                                64)                                                               \n",
            "                                                                                                  \n",
            " block2_sepconv1 (SeparableConv  (None, None, None,   8768       ['block1_conv2_act[0][0]']       \n",
            " 2D)                            128)                                                              \n",
            "                                                                                                  \n",
            " block2_sepconv1_bn (BatchNorma  (None, None, None,   512        ['block2_sepconv1[0][0]']        \n",
            " lization)                      128)                                                              \n",
            "                                                                                                  \n",
            " block2_sepconv2_act (Activatio  (None, None, None,   0          ['block2_sepconv1_bn[0][0]']     \n",
            " n)                             128)                                                              \n",
            "                                                                                                  \n",
            " block2_sepconv2 (SeparableConv  (None, None, None,   17536      ['block2_sepconv2_act[0][0]']    \n",
            " 2D)                            128)                                                              \n",
            "                                                                                                  \n",
            " block2_sepconv2_bn (BatchNorma  (None, None, None,   512        ['block2_sepconv2[0][0]']        \n",
            " lization)                      128)                                                              \n",
            "                                                                                                  \n",
            " conv2d (Conv2D)                (None, None, None,   8192        ['block1_conv2_act[0][0]']       \n",
            "                                128)                                                              \n",
            "                                                                                                  \n",
            " block2_pool (MaxPooling2D)     (None, None, None,   0           ['block2_sepconv2_bn[0][0]']     \n",
            "                                128)                                                              \n",
            "                                                                                                  \n",
            " batch_normalization (BatchNorm  (None, None, None,   512        ['conv2d[0][0]']                 \n",
            " alization)                     128)                                                              \n",
            "                                                                                                  \n",
            " add (Add)                      (None, None, None,   0           ['block2_pool[0][0]',            \n",
            "                                128)                              'batch_normalization[0][0]']    \n",
            "                                                                                                  \n",
            " block3_sepconv1_act (Activatio  (None, None, None,   0          ['add[0][0]']                    \n",
            " n)                             128)                                                              \n",
            "                                                                                                  \n",
            " block3_sepconv1 (SeparableConv  (None, None, None,   33920      ['block3_sepconv1_act[0][0]']    \n",
            " 2D)                            256)                                                              \n",
            "                                                                                                  \n",
            " block3_sepconv1_bn (BatchNorma  (None, None, None,   1024       ['block3_sepconv1[0][0]']        \n",
            " lization)                      256)                                                              \n",
            "                                                                                                  \n",
            " block3_sepconv2_act (Activatio  (None, None, None,   0          ['block3_sepconv1_bn[0][0]']     \n",
            " n)                             256)                                                              \n",
            "                                                                                                  \n",
            " block3_sepconv2 (SeparableConv  (None, None, None,   67840      ['block3_sepconv2_act[0][0]']    \n",
            " 2D)                            256)                                                              \n",
            "                                                                                                  \n",
            " block3_sepconv2_bn (BatchNorma  (None, None, None,   1024       ['block3_sepconv2[0][0]']        \n",
            " lization)                      256)                                                              \n",
            "                                                                                                  \n",
            " conv2d_1 (Conv2D)              (None, None, None,   32768       ['add[0][0]']                    \n",
            "                                256)                                                              \n",
            "                                                                                                  \n",
            " block3_pool (MaxPooling2D)     (None, None, None,   0           ['block3_sepconv2_bn[0][0]']     \n",
            "                                256)                                                              \n",
            "                                                                                                  \n",
            " batch_normalization_1 (BatchNo  (None, None, None,   1024       ['conv2d_1[0][0]']               \n",
            " rmalization)                   256)                                                              \n",
            "                                                                                                  \n",
            " add_1 (Add)                    (None, None, None,   0           ['block3_pool[0][0]',            \n",
            "                                256)                              'batch_normalization_1[0][0]']  \n",
            "                                                                                                  \n",
            " block4_sepconv1_act (Activatio  (None, None, None,   0          ['add_1[0][0]']                  \n",
            " n)                             256)                                                              \n",
            "                                                                                                  \n",
            " block4_sepconv1 (SeparableConv  (None, None, None,   188672     ['block4_sepconv1_act[0][0]']    \n",
            " 2D)                            728)                                                              \n",
            "                                                                                                  \n",
            " block4_sepconv1_bn (BatchNorma  (None, None, None,   2912       ['block4_sepconv1[0][0]']        \n",
            " lization)                      728)                                                              \n",
            "                                                                                                  \n",
            " block4_sepconv2_act (Activatio  (None, None, None,   0          ['block4_sepconv1_bn[0][0]']     \n",
            " n)                             728)                                                              \n",
            "                                                                                                  \n",
            " block4_sepconv2 (SeparableConv  (None, None, None,   536536     ['block4_sepconv2_act[0][0]']    \n",
            " 2D)                            728)                                                              \n",
            "                                                                                                  \n",
            " block4_sepconv2_bn (BatchNorma  (None, None, None,   2912       ['block4_sepconv2[0][0]']        \n",
            " lization)                      728)                                                              \n",
            "                                                                                                  \n",
            " conv2d_2 (Conv2D)              (None, None, None,   186368      ['add_1[0][0]']                  \n",
            "                                728)                                                              \n",
            "                                                                                                  \n",
            " block4_pool (MaxPooling2D)     (None, None, None,   0           ['block4_sepconv2_bn[0][0]']     \n",
            "                                728)                                                              \n",
            "                                                                                                  \n",
            " batch_normalization_2 (BatchNo  (None, None, None,   2912       ['conv2d_2[0][0]']               \n",
            " rmalization)                   728)                                                              \n",
            "                                                                                                  \n",
            " add_2 (Add)                    (None, None, None,   0           ['block4_pool[0][0]',            \n",
            "                                728)                              'batch_normalization_2[0][0]']  \n",
            "                                                                                                  \n",
            " block5_sepconv1_act (Activatio  (None, None, None,   0          ['add_2[0][0]']                  \n",
            " n)                             728)                                                              \n",
            "                                                                                                  \n",
            " block5_sepconv1 (SeparableConv  (None, None, None,   536536     ['block5_sepconv1_act[0][0]']    \n",
            " 2D)                            728)                                                              \n",
            "                                                                                                  \n",
            " block5_sepconv1_bn (BatchNorma  (None, None, None,   2912       ['block5_sepconv1[0][0]']        \n",
            " lization)                      728)                                                              \n",
            "                                                                                                  \n",
            " block5_sepconv2_act (Activatio  (None, None, None,   0          ['block5_sepconv1_bn[0][0]']     \n",
            " n)                             728)                                                              \n",
            "                                                                                                  \n",
            " block5_sepconv2 (SeparableConv  (None, None, None,   536536     ['block5_sepconv2_act[0][0]']    \n",
            " 2D)                            728)                                                              \n",
            "                                                                                                  \n",
            " block5_sepconv2_bn (BatchNorma  (None, None, None,   2912       ['block5_sepconv2[0][0]']        \n",
            " lization)                      728)                                                              \n",
            "                                                                                                  \n",
            " block5_sepconv3_act (Activatio  (None, None, None,   0          ['block5_sepconv2_bn[0][0]']     \n",
            " n)                             728)                                                              \n",
            "                                                                                                  \n",
            " block5_sepconv3 (SeparableConv  (None, None, None,   536536     ['block5_sepconv3_act[0][0]']    \n",
            " 2D)                            728)                                                              \n",
            "                                                                                                  \n",
            " block5_sepconv3_bn (BatchNorma  (None, None, None,   2912       ['block5_sepconv3[0][0]']        \n",
            " lization)                      728)                                                              \n",
            "                                                                                                  \n",
            " add_3 (Add)                    (None, None, None,   0           ['block5_sepconv3_bn[0][0]',     \n",
            "                                728)                              'add_2[0][0]']                  \n",
            "                                                                                                  \n",
            " block6_sepconv1_act (Activatio  (None, None, None,   0          ['add_3[0][0]']                  \n",
            " n)                             728)                                                              \n",
            "                                                                                                  \n",
            " block6_sepconv1 (SeparableConv  (None, None, None,   536536     ['block6_sepconv1_act[0][0]']    \n",
            " 2D)                            728)                                                              \n",
            "                                                                                                  \n",
            " block6_sepconv1_bn (BatchNorma  (None, None, None,   2912       ['block6_sepconv1[0][0]']        \n",
            " lization)                      728)                                                              \n",
            "                                                                                                  \n",
            " block6_sepconv2_act (Activatio  (None, None, None,   0          ['block6_sepconv1_bn[0][0]']     \n",
            " n)                             728)                                                              \n",
            "                                                                                                  \n",
            " block6_sepconv2 (SeparableConv  (None, None, None,   536536     ['block6_sepconv2_act[0][0]']    \n",
            " 2D)                            728)                                                              \n",
            "                                                                                                  \n",
            " block6_sepconv2_bn (BatchNorma  (None, None, None,   2912       ['block6_sepconv2[0][0]']        \n",
            " lization)                      728)                                                              \n",
            "                                                                                                  \n",
            " block6_sepconv3_act (Activatio  (None, None, None,   0          ['block6_sepconv2_bn[0][0]']     \n",
            " n)                             728)                                                              \n",
            "                                                                                                  \n",
            " block6_sepconv3 (SeparableConv  (None, None, None,   536536     ['block6_sepconv3_act[0][0]']    \n",
            " 2D)                            728)                                                              \n",
            "                                                                                                  \n",
            " block6_sepconv3_bn (BatchNorma  (None, None, None,   2912       ['block6_sepconv3[0][0]']        \n",
            " lization)                      728)                                                              \n",
            "                                                                                                  \n",
            " add_4 (Add)                    (None, None, None,   0           ['block6_sepconv3_bn[0][0]',     \n",
            "                                728)                              'add_3[0][0]']                  \n",
            "                                                                                                  \n",
            " block7_sepconv1_act (Activatio  (None, None, None,   0          ['add_4[0][0]']                  \n",
            " n)                             728)                                                              \n",
            "                                                                                                  \n",
            " block7_sepconv1 (SeparableConv  (None, None, None,   536536     ['block7_sepconv1_act[0][0]']    \n",
            " 2D)                            728)                                                              \n",
            "                                                                                                  \n",
            " block7_sepconv1_bn (BatchNorma  (None, None, None,   2912       ['block7_sepconv1[0][0]']        \n",
            " lization)                      728)                                                              \n",
            "                                                                                                  \n",
            " block7_sepconv2_act (Activatio  (None, None, None,   0          ['block7_sepconv1_bn[0][0]']     \n",
            " n)                             728)                                                              \n",
            "                                                                                                  \n",
            " block7_sepconv2 (SeparableConv  (None, None, None,   536536     ['block7_sepconv2_act[0][0]']    \n",
            " 2D)                            728)                                                              \n",
            "                                                                                                  \n",
            " block7_sepconv2_bn (BatchNorma  (None, None, None,   2912       ['block7_sepconv2[0][0]']        \n",
            " lization)                      728)                                                              \n",
            "                                                                                                  \n",
            " block7_sepconv3_act (Activatio  (None, None, None,   0          ['block7_sepconv2_bn[0][0]']     \n",
            " n)                             728)                                                              \n",
            "                                                                                                  \n",
            " block7_sepconv3 (SeparableConv  (None, None, None,   536536     ['block7_sepconv3_act[0][0]']    \n",
            " 2D)                            728)                                                              \n",
            "                                                                                                  \n",
            " block7_sepconv3_bn (BatchNorma  (None, None, None,   2912       ['block7_sepconv3[0][0]']        \n",
            " lization)                      728)                                                              \n",
            "                                                                                                  \n",
            " add_5 (Add)                    (None, None, None,   0           ['block7_sepconv3_bn[0][0]',     \n",
            "                                728)                              'add_4[0][0]']                  \n",
            "                                                                                                  \n",
            " block8_sepconv1_act (Activatio  (None, None, None,   0          ['add_5[0][0]']                  \n",
            " n)                             728)                                                              \n",
            "                                                                                                  \n",
            " block8_sepconv1 (SeparableConv  (None, None, None,   536536     ['block8_sepconv1_act[0][0]']    \n",
            " 2D)                            728)                                                              \n",
            "                                                                                                  \n",
            " block8_sepconv1_bn (BatchNorma  (None, None, None,   2912       ['block8_sepconv1[0][0]']        \n",
            " lization)                      728)                                                              \n",
            "                                                                                                  \n",
            " block8_sepconv2_act (Activatio  (None, None, None,   0          ['block8_sepconv1_bn[0][0]']     \n",
            " n)                             728)                                                              \n",
            "                                                                                                  \n",
            " block8_sepconv2 (SeparableConv  (None, None, None,   536536     ['block8_sepconv2_act[0][0]']    \n",
            " 2D)                            728)                                                              \n",
            "                                                                                                  \n",
            " block8_sepconv2_bn (BatchNorma  (None, None, None,   2912       ['block8_sepconv2[0][0]']        \n",
            " lization)                      728)                                                              \n",
            "                                                                                                  \n",
            " block8_sepconv3_act (Activatio  (None, None, None,   0          ['block8_sepconv2_bn[0][0]']     \n",
            " n)                             728)                                                              \n",
            "                                                                                                  \n",
            " block8_sepconv3 (SeparableConv  (None, None, None,   536536     ['block8_sepconv3_act[0][0]']    \n",
            " 2D)                            728)                                                              \n",
            "                                                                                                  \n",
            " block8_sepconv3_bn (BatchNorma  (None, None, None,   2912       ['block8_sepconv3[0][0]']        \n",
            " lization)                      728)                                                              \n",
            "                                                                                                  \n",
            " add_6 (Add)                    (None, None, None,   0           ['block8_sepconv3_bn[0][0]',     \n",
            "                                728)                              'add_5[0][0]']                  \n",
            "                                                                                                  \n",
            " block9_sepconv1_act (Activatio  (None, None, None,   0          ['add_6[0][0]']                  \n",
            " n)                             728)                                                              \n",
            "                                                                                                  \n",
            " block9_sepconv1 (SeparableConv  (None, None, None,   536536     ['block9_sepconv1_act[0][0]']    \n",
            " 2D)                            728)                                                              \n",
            "                                                                                                  \n",
            " block9_sepconv1_bn (BatchNorma  (None, None, None,   2912       ['block9_sepconv1[0][0]']        \n",
            " lization)                      728)                                                              \n",
            "                                                                                                  \n",
            " block9_sepconv2_act (Activatio  (None, None, None,   0          ['block9_sepconv1_bn[0][0]']     \n",
            " n)                             728)                                                              \n",
            "                                                                                                  \n",
            " block9_sepconv2 (SeparableConv  (None, None, None,   536536     ['block9_sepconv2_act[0][0]']    \n",
            " 2D)                            728)                                                              \n",
            "                                                                                                  \n",
            " block9_sepconv2_bn (BatchNorma  (None, None, None,   2912       ['block9_sepconv2[0][0]']        \n",
            " lization)                      728)                                                              \n",
            "                                                                                                  \n",
            " block9_sepconv3_act (Activatio  (None, None, None,   0          ['block9_sepconv2_bn[0][0]']     \n",
            " n)                             728)                                                              \n",
            "                                                                                                  \n",
            " block9_sepconv3 (SeparableConv  (None, None, None,   536536     ['block9_sepconv3_act[0][0]']    \n",
            " 2D)                            728)                                                              \n",
            "                                                                                                  \n",
            " block9_sepconv3_bn (BatchNorma  (None, None, None,   2912       ['block9_sepconv3[0][0]']        \n",
            " lization)                      728)                                                              \n",
            "                                                                                                  \n",
            " add_7 (Add)                    (None, None, None,   0           ['block9_sepconv3_bn[0][0]',     \n",
            "                                728)                              'add_6[0][0]']                  \n",
            "                                                                                                  \n",
            " block10_sepconv1_act (Activati  (None, None, None,   0          ['add_7[0][0]']                  \n",
            " on)                            728)                                                              \n",
            "                                                                                                  \n",
            " block10_sepconv1 (SeparableCon  (None, None, None,   536536     ['block10_sepconv1_act[0][0]']   \n",
            " v2D)                           728)                                                              \n",
            "                                                                                                  \n",
            " block10_sepconv1_bn (BatchNorm  (None, None, None,   2912       ['block10_sepconv1[0][0]']       \n",
            " alization)                     728)                                                              \n",
            "                                                                                                  \n",
            " block10_sepconv2_act (Activati  (None, None, None,   0          ['block10_sepconv1_bn[0][0]']    \n",
            " on)                            728)                                                              \n",
            "                                                                                                  \n",
            " block10_sepconv2 (SeparableCon  (None, None, None,   536536     ['block10_sepconv2_act[0][0]']   \n",
            " v2D)                           728)                                                              \n",
            "                                                                                                  \n",
            " block10_sepconv2_bn (BatchNorm  (None, None, None,   2912       ['block10_sepconv2[0][0]']       \n",
            " alization)                     728)                                                              \n",
            "                                                                                                  \n",
            " block10_sepconv3_act (Activati  (None, None, None,   0          ['block10_sepconv2_bn[0][0]']    \n",
            " on)                            728)                                                              \n",
            "                                                                                                  \n",
            " block10_sepconv3 (SeparableCon  (None, None, None,   536536     ['block10_sepconv3_act[0][0]']   \n",
            " v2D)                           728)                                                              \n",
            "                                                                                                  \n",
            " block10_sepconv3_bn (BatchNorm  (None, None, None,   2912       ['block10_sepconv3[0][0]']       \n",
            " alization)                     728)                                                              \n",
            "                                                                                                  \n",
            " add_8 (Add)                    (None, None, None,   0           ['block10_sepconv3_bn[0][0]',    \n",
            "                                728)                              'add_7[0][0]']                  \n",
            "                                                                                                  \n",
            " block11_sepconv1_act (Activati  (None, None, None,   0          ['add_8[0][0]']                  \n",
            " on)                            728)                                                              \n",
            "                                                                                                  \n",
            " block11_sepconv1 (SeparableCon  (None, None, None,   536536     ['block11_sepconv1_act[0][0]']   \n",
            " v2D)                           728)                                                              \n",
            "                                                                                                  \n",
            " block11_sepconv1_bn (BatchNorm  (None, None, None,   2912       ['block11_sepconv1[0][0]']       \n",
            " alization)                     728)                                                              \n",
            "                                                                                                  \n",
            " block11_sepconv2_act (Activati  (None, None, None,   0          ['block11_sepconv1_bn[0][0]']    \n",
            " on)                            728)                                                              \n",
            "                                                                                                  \n",
            " block11_sepconv2 (SeparableCon  (None, None, None,   536536     ['block11_sepconv2_act[0][0]']   \n",
            " v2D)                           728)                                                              \n",
            "                                                                                                  \n",
            " block11_sepconv2_bn (BatchNorm  (None, None, None,   2912       ['block11_sepconv2[0][0]']       \n",
            " alization)                     728)                                                              \n",
            "                                                                                                  \n",
            " block11_sepconv3_act (Activati  (None, None, None,   0          ['block11_sepconv2_bn[0][0]']    \n",
            " on)                            728)                                                              \n",
            "                                                                                                  \n",
            " block11_sepconv3 (SeparableCon  (None, None, None,   536536     ['block11_sepconv3_act[0][0]']   \n",
            " v2D)                           728)                                                              \n",
            "                                                                                                  \n",
            " block11_sepconv3_bn (BatchNorm  (None, None, None,   2912       ['block11_sepconv3[0][0]']       \n",
            " alization)                     728)                                                              \n",
            "                                                                                                  \n",
            " add_9 (Add)                    (None, None, None,   0           ['block11_sepconv3_bn[0][0]',    \n",
            "                                728)                              'add_8[0][0]']                  \n",
            "                                                                                                  \n",
            " block12_sepconv1_act (Activati  (None, None, None,   0          ['add_9[0][0]']                  \n",
            " on)                            728)                                                              \n",
            "                                                                                                  \n",
            " block12_sepconv1 (SeparableCon  (None, None, None,   536536     ['block12_sepconv1_act[0][0]']   \n",
            " v2D)                           728)                                                              \n",
            "                                                                                                  \n",
            " block12_sepconv1_bn (BatchNorm  (None, None, None,   2912       ['block12_sepconv1[0][0]']       \n",
            " alization)                     728)                                                              \n",
            "                                                                                                  \n",
            " block12_sepconv2_act (Activati  (None, None, None,   0          ['block12_sepconv1_bn[0][0]']    \n",
            " on)                            728)                                                              \n",
            "                                                                                                  \n",
            " block12_sepconv2 (SeparableCon  (None, None, None,   536536     ['block12_sepconv2_act[0][0]']   \n",
            " v2D)                           728)                                                              \n",
            "                                                                                                  \n",
            " block12_sepconv2_bn (BatchNorm  (None, None, None,   2912       ['block12_sepconv2[0][0]']       \n",
            " alization)                     728)                                                              \n",
            "                                                                                                  \n",
            " block12_sepconv3_act (Activati  (None, None, None,   0          ['block12_sepconv2_bn[0][0]']    \n",
            " on)                            728)                                                              \n",
            "                                                                                                  \n",
            " block12_sepconv3 (SeparableCon  (None, None, None,   536536     ['block12_sepconv3_act[0][0]']   \n",
            " v2D)                           728)                                                              \n",
            "                                                                                                  \n",
            " block12_sepconv3_bn (BatchNorm  (None, None, None,   2912       ['block12_sepconv3[0][0]']       \n",
            " alization)                     728)                                                              \n",
            "                                                                                                  \n",
            " add_10 (Add)                   (None, None, None,   0           ['block12_sepconv3_bn[0][0]',    \n",
            "                                728)                              'add_9[0][0]']                  \n",
            "                                                                                                  \n",
            " block13_sepconv1_act (Activati  (None, None, None,   0          ['add_10[0][0]']                 \n",
            " on)                            728)                                                              \n",
            "                                                                                                  \n",
            " block13_sepconv1 (SeparableCon  (None, None, None,   536536     ['block13_sepconv1_act[0][0]']   \n",
            " v2D)                           728)                                                              \n",
            "                                                                                                  \n",
            " block13_sepconv1_bn (BatchNorm  (None, None, None,   2912       ['block13_sepconv1[0][0]']       \n",
            " alization)                     728)                                                              \n",
            "                                                                                                  \n",
            " block13_sepconv2_act (Activati  (None, None, None,   0          ['block13_sepconv1_bn[0][0]']    \n",
            " on)                            728)                                                              \n",
            "                                                                                                  \n",
            " block13_sepconv2 (SeparableCon  (None, None, None,   752024     ['block13_sepconv2_act[0][0]']   \n",
            " v2D)                           1024)                                                             \n",
            "                                                                                                  \n",
            " block13_sepconv2_bn (BatchNorm  (None, None, None,   4096       ['block13_sepconv2[0][0]']       \n",
            " alization)                     1024)                                                             \n",
            "                                                                                                  \n",
            " conv2d_3 (Conv2D)              (None, None, None,   745472      ['add_10[0][0]']                 \n",
            "                                1024)                                                             \n",
            "                                                                                                  \n",
            " block13_pool (MaxPooling2D)    (None, None, None,   0           ['block13_sepconv2_bn[0][0]']    \n",
            "                                1024)                                                             \n",
            "                                                                                                  \n",
            " batch_normalization_3 (BatchNo  (None, None, None,   4096       ['conv2d_3[0][0]']               \n",
            " rmalization)                   1024)                                                             \n",
            "                                                                                                  \n",
            " add_11 (Add)                   (None, None, None,   0           ['block13_pool[0][0]',           \n",
            "                                1024)                             'batch_normalization_3[0][0]']  \n",
            "                                                                                                  \n",
            " block14_sepconv1 (SeparableCon  (None, None, None,   1582080    ['add_11[0][0]']                 \n",
            " v2D)                           1536)                                                             \n",
            "                                                                                                  \n",
            " block14_sepconv1_bn (BatchNorm  (None, None, None,   6144       ['block14_sepconv1[0][0]']       \n",
            " alization)                     1536)                                                             \n",
            "                                                                                                  \n",
            " block14_sepconv1_act (Activati  (None, None, None,   0          ['block14_sepconv1_bn[0][0]']    \n",
            " on)                            1536)                                                             \n",
            "                                                                                                  \n",
            " block14_sepconv2 (SeparableCon  (None, None, None,   3159552    ['block14_sepconv1_act[0][0]']   \n",
            " v2D)                           2048)                                                             \n",
            "                                                                                                  \n",
            " block14_sepconv2_bn (BatchNorm  (None, None, None,   8192       ['block14_sepconv2[0][0]']       \n",
            " alization)                     2048)                                                             \n",
            "                                                                                                  \n",
            " block14_sepconv2_act (Activati  (None, None, None,   0          ['block14_sepconv2_bn[0][0]']    \n",
            " on)                            2048)                                                             \n",
            "                                                                                                  \n",
            "==================================================================================================\n",
            "Total params: 20,861,480\n",
            "Trainable params: 3,163,648\n",
            "Non-trainable params: 17,697,832\n",
            "__________________________________________________________________________________________________\n"
          ]
        }
      ]
    },
    {
      "cell_type": "markdown",
      "source": [
        "Transformaciones para expandir las imágenes y definición de la arquitectura\n"
      ],
      "metadata": {
        "id": "5DecNkRj2KfX"
      }
    },
    {
      "cell_type": "code",
      "source": [
        "data_augmentation = keras.Sequential(\n",
        "    [\n",
        "        layers.RandomFlip(\"horizontal\"),\n",
        "        layers.RandomRotation(0.1),\n",
        "        layers.RandomZoom(0.2),\n",
        "    ]\n",
        ")\n",
        "\n",
        "inputs = keras.Input(shape=(180, 180, 3))\n",
        "x = data_augmentation(inputs)\n",
        "x = keras.applications.xception.preprocess_input(x)\n",
        "x = conv_base(x)\n",
        "x = layers.Flatten()(x)\n",
        "x = layers.Dense(768)(x)#, kernel_regularizer=regularizers.l1_l2(0.01))(x)\n",
        "x = layers.Dropout(0.5)(x)\n",
        "outputs = layers.Dense(4, activation=\"softmax\")(x)\n",
        "model = keras.Model(inputs, outputs)"
      ],
      "metadata": {
        "id": "mtUlUv7-2KpM",
        "colab": {
          "base_uri": "https://localhost:8080/"
        },
        "outputId": "c4f63cd1-7320-4ff1-e113-2846031bed99"
      },
      "execution_count": null,
      "outputs": [
        {
          "output_type": "stream",
          "name": "stderr",
          "text": [
            "WARNING:tensorflow:Using a while_loop for converting RngReadAndSkip cause there is no registered converter for this op.\n",
            "WARNING:tensorflow:Using a while_loop for converting Bitcast cause there is no registered converter for this op.\n",
            "WARNING:tensorflow:Using a while_loop for converting Bitcast cause there is no registered converter for this op.\n",
            "WARNING:tensorflow:Using a while_loop for converting StatelessRandomUniformV2 cause there is no registered converter for this op.\n",
            "WARNING:tensorflow:Using a while_loop for converting ImageProjectiveTransformV3 cause there is no registered converter for this op.\n",
            "WARNING:tensorflow:Using a while_loop for converting RngReadAndSkip cause there is no registered converter for this op.\n",
            "WARNING:tensorflow:Using a while_loop for converting Bitcast cause there is no registered converter for this op.\n",
            "WARNING:tensorflow:Using a while_loop for converting Bitcast cause there is no registered converter for this op.\n",
            "WARNING:tensorflow:Using a while_loop for converting StatelessRandomUniformV2 cause there is no registered converter for this op.\n",
            "WARNING:tensorflow:Using a while_loop for converting ImageProjectiveTransformV3 cause there is no registered converter for this op.\n",
            "WARNING:tensorflow:Using a while_loop for converting RngReadAndSkip cause there is no registered converter for this op.\n",
            "WARNING:tensorflow:Using a while_loop for converting Bitcast cause there is no registered converter for this op.\n",
            "WARNING:tensorflow:Using a while_loop for converting Bitcast cause there is no registered converter for this op.\n",
            "WARNING:tensorflow:Using a while_loop for converting StatelessRandomUniformV2 cause there is no registered converter for this op.\n",
            "WARNING:tensorflow:Using a while_loop for converting ImageProjectiveTransformV3 cause there is no registered converter for this op.\n",
            "WARNING:tensorflow:Using a while_loop for converting RngReadAndSkip cause there is no registered converter for this op.\n",
            "WARNING:tensorflow:Using a while_loop for converting Bitcast cause there is no registered converter for this op.\n",
            "WARNING:tensorflow:Using a while_loop for converting Bitcast cause there is no registered converter for this op.\n",
            "WARNING:tensorflow:Using a while_loop for converting StatelessRandomUniformV2 cause there is no registered converter for this op.\n",
            "WARNING:tensorflow:Using a while_loop for converting ImageProjectiveTransformV3 cause there is no registered converter for this op.\n"
          ]
        }
      ]
    },
    {
      "cell_type": "markdown",
      "source": [
        "Fijar los hiperparámetros y entrenar la red"
      ],
      "metadata": {
        "id": "i-9CwKt91131"
      }
    },
    {
      "cell_type": "code",
      "source": [
        "model.compile(loss=\"categorical_crossentropy\",\n",
        "              optimizer=keras.optimizers.RMSprop(learning_rate=1e-5),\n",
        "              metrics=[\"accuracy\"])\n",
        "\n",
        "history = model.fit(\n",
        "    train_dataset,\n",
        "    epochs=30,  #30\n",
        "    batch_size=128,\n",
        "    validation_data=validation_dataset)"
      ],
      "metadata": {
        "colab": {
          "base_uri": "https://localhost:8080/"
        },
        "id": "Wb9Ijf7612B1",
        "outputId": "42225dde-9b67-424d-ab34-e91ecd42780a"
      },
      "execution_count": null,
      "outputs": [
        {
          "output_type": "stream",
          "name": "stdout",
          "text": [
            "Epoch 1/30\n"
          ]
        },
        {
          "output_type": "stream",
          "name": "stderr",
          "text": [
            "WARNING:tensorflow:Using a while_loop for converting RngReadAndSkip cause there is no registered converter for this op.\n",
            "WARNING:tensorflow:Using a while_loop for converting Bitcast cause there is no registered converter for this op.\n",
            "WARNING:tensorflow:Using a while_loop for converting Bitcast cause there is no registered converter for this op.\n",
            "WARNING:tensorflow:Using a while_loop for converting StatelessRandomUniformV2 cause there is no registered converter for this op.\n",
            "WARNING:tensorflow:Using a while_loop for converting ImageProjectiveTransformV3 cause there is no registered converter for this op.\n",
            "WARNING:tensorflow:Using a while_loop for converting RngReadAndSkip cause there is no registered converter for this op.\n",
            "WARNING:tensorflow:Using a while_loop for converting Bitcast cause there is no registered converter for this op.\n",
            "WARNING:tensorflow:Using a while_loop for converting Bitcast cause there is no registered converter for this op.\n",
            "WARNING:tensorflow:Using a while_loop for converting StatelessRandomUniformV2 cause there is no registered converter for this op.\n",
            "WARNING:tensorflow:Using a while_loop for converting ImageProjectiveTransformV3 cause there is no registered converter for this op.\n",
            "WARNING:tensorflow:Using a while_loop for converting RngReadAndSkip cause there is no registered converter for this op.\n",
            "WARNING:tensorflow:Using a while_loop for converting Bitcast cause there is no registered converter for this op.\n",
            "WARNING:tensorflow:Using a while_loop for converting Bitcast cause there is no registered converter for this op.\n",
            "WARNING:tensorflow:Using a while_loop for converting StatelessRandomUniformV2 cause there is no registered converter for this op.\n",
            "WARNING:tensorflow:Using a while_loop for converting ImageProjectiveTransformV3 cause there is no registered converter for this op.\n",
            "WARNING:tensorflow:Using a while_loop for converting RngReadAndSkip cause there is no registered converter for this op.\n",
            "WARNING:tensorflow:Using a while_loop for converting Bitcast cause there is no registered converter for this op.\n",
            "WARNING:tensorflow:Using a while_loop for converting Bitcast cause there is no registered converter for this op.\n",
            "WARNING:tensorflow:Using a while_loop for converting StatelessRandomUniformV2 cause there is no registered converter for this op.\n",
            "WARNING:tensorflow:Using a while_loop for converting ImageProjectiveTransformV3 cause there is no registered converter for this op.\n"
          ]
        },
        {
          "output_type": "stream",
          "name": "stdout",
          "text": [
            "36/36 [==============================] - 24s 445ms/step - loss: 1.3510 - accuracy: 0.5223 - val_loss: 1.1502 - val_accuracy: 0.5943\n",
            "Epoch 2/30\n",
            "36/36 [==============================] - 17s 425ms/step - loss: 1.0268 - accuracy: 0.6279 - val_loss: 1.0170 - val_accuracy: 0.6168\n",
            "Epoch 3/30\n",
            "36/36 [==============================] - 17s 423ms/step - loss: 0.8916 - accuracy: 0.6891 - val_loss: 1.0235 - val_accuracy: 0.6393\n",
            "Epoch 4/30\n",
            "36/36 [==============================] - 17s 422ms/step - loss: 0.7912 - accuracy: 0.7004 - val_loss: 1.1318 - val_accuracy: 0.6148\n",
            "Epoch 5/30\n",
            "36/36 [==============================] - 19s 499ms/step - loss: 0.7393 - accuracy: 0.7319 - val_loss: 1.1472 - val_accuracy: 0.6230\n",
            "Epoch 6/30\n",
            "36/36 [==============================] - 17s 423ms/step - loss: 0.7605 - accuracy: 0.7205 - val_loss: 1.1698 - val_accuracy: 0.6107\n",
            "Epoch 7/30\n",
            "36/36 [==============================] - 16s 414ms/step - loss: 0.6457 - accuracy: 0.7712 - val_loss: 1.1073 - val_accuracy: 0.6496\n",
            "Epoch 8/30\n",
            "36/36 [==============================] - 17s 424ms/step - loss: 0.6108 - accuracy: 0.7799 - val_loss: 1.1075 - val_accuracy: 0.6434\n",
            "Epoch 9/30\n",
            "36/36 [==============================] - 17s 414ms/step - loss: 0.5951 - accuracy: 0.7764 - val_loss: 1.1498 - val_accuracy: 0.6537\n",
            "Epoch 10/30\n",
            "36/36 [==============================] - 16s 410ms/step - loss: 0.6067 - accuracy: 0.7860 - val_loss: 1.4921 - val_accuracy: 0.5902\n",
            "Epoch 11/30\n",
            "36/36 [==============================] - 16s 413ms/step - loss: 0.5737 - accuracy: 0.7886 - val_loss: 1.2107 - val_accuracy: 0.6148\n",
            "Epoch 12/30\n",
            "36/36 [==============================] - 17s 415ms/step - loss: 0.5481 - accuracy: 0.8070 - val_loss: 1.1588 - val_accuracy: 0.6434\n",
            "Epoch 13/30\n",
            "36/36 [==============================] - 17s 413ms/step - loss: 0.4934 - accuracy: 0.8314 - val_loss: 1.2427 - val_accuracy: 0.6496\n",
            "Epoch 14/30\n",
            "36/36 [==============================] - 17s 415ms/step - loss: 0.5028 - accuracy: 0.8157 - val_loss: 1.1848 - val_accuracy: 0.6414\n",
            "Epoch 15/30\n",
            "36/36 [==============================] - 17s 415ms/step - loss: 0.4429 - accuracy: 0.8384 - val_loss: 1.3080 - val_accuracy: 0.6270\n",
            "Epoch 16/30\n",
            "36/36 [==============================] - 19s 476ms/step - loss: 0.4464 - accuracy: 0.8611 - val_loss: 1.4058 - val_accuracy: 0.6270\n",
            "Epoch 17/30\n",
            "36/36 [==============================] - 16s 411ms/step - loss: 0.4239 - accuracy: 0.8314 - val_loss: 1.2791 - val_accuracy: 0.6557\n",
            "Epoch 18/30\n",
            "36/36 [==============================] - 16s 412ms/step - loss: 0.4466 - accuracy: 0.8472 - val_loss: 1.2688 - val_accuracy: 0.6373\n",
            "Epoch 19/30\n",
            "36/36 [==============================] - 16s 411ms/step - loss: 0.4124 - accuracy: 0.8524 - val_loss: 1.1851 - val_accuracy: 0.6496\n",
            "Epoch 20/30\n",
            "36/36 [==============================] - 17s 415ms/step - loss: 0.3771 - accuracy: 0.8655 - val_loss: 1.2157 - val_accuracy: 0.6475\n",
            "Epoch 21/30\n",
            "36/36 [==============================] - 16s 412ms/step - loss: 0.3577 - accuracy: 0.8672 - val_loss: 1.2653 - val_accuracy: 0.6250\n",
            "Epoch 22/30\n",
            "36/36 [==============================] - 16s 413ms/step - loss: 0.3752 - accuracy: 0.8760 - val_loss: 1.2747 - val_accuracy: 0.6475\n",
            "Epoch 23/30\n",
            "36/36 [==============================] - 16s 412ms/step - loss: 0.3664 - accuracy: 0.8620 - val_loss: 1.2634 - val_accuracy: 0.6557\n",
            "Epoch 24/30\n",
            "36/36 [==============================] - 16s 413ms/step - loss: 0.3799 - accuracy: 0.8638 - val_loss: 1.3041 - val_accuracy: 0.6373\n",
            "Epoch 25/30\n",
            "36/36 [==============================] - 17s 415ms/step - loss: 0.3214 - accuracy: 0.8865 - val_loss: 1.3157 - val_accuracy: 0.6496\n",
            "Epoch 26/30\n",
            "36/36 [==============================] - 17s 419ms/step - loss: 0.3156 - accuracy: 0.8917 - val_loss: 1.4140 - val_accuracy: 0.6516\n",
            "Epoch 27/30\n",
            "36/36 [==============================] - 19s 485ms/step - loss: 0.3596 - accuracy: 0.8725 - val_loss: 1.3593 - val_accuracy: 0.6598\n",
            "Epoch 28/30\n",
            "36/36 [==============================] - 17s 418ms/step - loss: 0.3284 - accuracy: 0.8795 - val_loss: 1.3270 - val_accuracy: 0.6332\n",
            "Epoch 29/30\n",
            "36/36 [==============================] - 17s 419ms/step - loss: 0.3178 - accuracy: 0.8943 - val_loss: 1.3073 - val_accuracy: 0.6414\n",
            "Epoch 30/30\n",
            "36/36 [==============================] - 17s 415ms/step - loss: 0.3176 - accuracy: 0.8882 - val_loss: 1.5667 - val_accuracy: 0.5984\n"
          ]
        }
      ]
    },
    {
      "cell_type": "markdown",
      "source": [
        "Visualizando la pérdida y el accuracy durante el entrenamiento\n"
      ],
      "metadata": {
        "id": "eXK5nzg42xwX"
      }
    },
    {
      "cell_type": "code",
      "source": [
        "acc = history.history[\"accuracy\"]\n",
        "val_acc = history.history[\"val_accuracy\"]\n",
        "loss = history.history[\"loss\"]\n",
        "val_loss = history.history[\"val_loss\"]\n",
        "epochs = range(1, len(acc) + 1)\n",
        "plt.plot(epochs, acc, \"bo\", label=\"Training accuracy\")\n",
        "plt.plot(epochs, val_acc, \"b\", label=\"Validation accuracy\")\n",
        "plt.title(\"Training and validation accuracy\")\n",
        "plt.legend()\n",
        "plt.figure()\n",
        "plt.plot(epochs, loss, \"bo\", label=\"Training loss\")\n",
        "plt.plot(epochs, val_loss, \"b\", label=\"Validation loss\")\n",
        "plt.title(\"Training and validation loss\")\n",
        "plt.legend()\n",
        "plt.show()"
      ],
      "metadata": {
        "colab": {
          "base_uri": "https://localhost:8080/",
          "height": 545
        },
        "id": "R-6hhLky2x7o",
        "outputId": "d68ee539-45c7-43fc-8f71-b770cfefaee1"
      },
      "execution_count": null,
      "outputs": [
        {
          "output_type": "display_data",
          "data": {
            "text/plain": [
              "<Figure size 432x288 with 1 Axes>"
            ],
            "image/png": "[encoded data removed]"
          },
          "metadata": {
            "needs_background": "light"
          }
        },
        {
          "output_type": "display_data",
          "data": {
            "text/plain": [
              "<Figure size 432x288 with 1 Axes>"
            ],
            "image/png": "[encoded data removed]"
          },
          "metadata": {
            "needs_background": "light"
          }
        }
      ]
    },
    {
      "cell_type": "code",
      "source": [
        "model.evaluate(test_dataset)"
      ],
      "metadata": {
        "colab": {
          "base_uri": "https://localhost:8080/"
        },
        "id": "J1oNbeU3ZG_b",
        "outputId": "b5236a67-1314-412d-a3d0-b9fcba3d92b5"
      },
      "execution_count": null,
      "outputs": [
        {
          "output_type": "stream",
          "name": "stdout",
          "text": [
            "2/2 [==============================] - 1s 128ms/step - loss: 151.2704 - accuracy: 0.5781\n"
          ]
        },
        {
          "output_type": "execute_result",
          "data": {
            "text/plain": [
              "[151.27044677734375, 0.578125]"
            ]
          },
          "metadata": {},
          "execution_count": 12
        }
      ]
    },
    {
      "cell_type": "code",
      "source": [
        ""
      ],
      "metadata": {
        "id": "sfoj0G4cfctG"
      },
      "execution_count": null,
      "outputs": []
    },
    {
      "cell_type": "code",
      "source": [],
      "metadata": {
        "id": "ecqf_z2byADd"
      },
      "execution_count": null,
      "outputs": []
    },
    {
      "cell_type": "markdown",
      "source": [
        "### Matriz de confusión y métricas relevantes"
      ],
      "metadata": {
        "id": "osc7fzT9a8_q"
      }
    },
    {
      "cell_type": "code",
      "source": [
        "import numpy as np"
      ],
      "metadata": {
        "id": "XW1jn8CvmvRE"
      },
      "execution_count": null,
      "outputs": []
    },
    {
      "cell_type": "code",
      "source": [
        "train_dataset"
      ],
      "metadata": {
        "id": "OGUUgsR_hi-u",
        "colab": {
          "base_uri": "https://localhost:8080/"
        },
        "outputId": "44760e0d-06c9-4186-fe24-47bf1897991b"
      },
      "execution_count": null,
      "outputs": [
        {
          "output_type": "execute_result",
          "data": {
            "text/plain": [
              "<BatchDataset element_spec=(TensorSpec(shape=(None, 180, 180, 3), dtype=tf.float32, name=None), TensorSpec(shape=(None, 4), dtype=tf.float32, name=None))>"
            ]
          },
          "metadata": {},
          "execution_count": 15
        }
      ]
    },
    {
      "cell_type": "code",
      "source": [
        "predicciones_train = []  # store predicted labels\n",
        "labels_train = []  # store true labels\n",
        "\n",
        "# iterate over the dataset\n",
        "for image_batch, label_batch in train_dataset:   # use dataset.unbatch() with repeat\n",
        "   # append true labels\n",
        "   labels_train.append(label_batch)\n",
        "   # compute predictions\n",
        "   preds = model.predict(image_batch)\n",
        "   # append predicted labels\n",
        "   predicciones_train.append(np.argmax(preds, axis = - 1))"
      ],
      "metadata": {
        "id": "p4kJhjcThnEg",
        "colab": {
          "base_uri": "https://localhost:8080/"
        },
        "outputId": "f623d5d1-bc45-44b6-a0a1-8fd70d54106b"
      },
      "execution_count": null,
      "outputs": [
        {
          "output_type": "stream",
          "name": "stdout",
          "text": [
            "1/1 [==============================] - 1s 637ms/step\n",
            "1/1 [==============================] - 0s 52ms/step\n",
            "1/1 [==============================] - 0s 71ms/step\n",
            "1/1 [==============================] - 0s 78ms/step\n",
            "1/1 [==============================] - 0s 87ms/step\n",
            "1/1 [==============================] - 0s 68ms/step\n",
            "1/1 [==============================] - 0s 34ms/step\n",
            "1/1 [==============================] - 0s 55ms/step\n",
            "1/1 [==============================] - 0s 36ms/step\n",
            "1/1 [==============================] - 0s 56ms/step\n",
            "1/1 [==============================] - 0s 46ms/step\n",
            "1/1 [==============================] - 0s 40ms/step\n",
            "1/1 [==============================] - 0s 42ms/step\n",
            "1/1 [==============================] - 0s 55ms/step\n",
            "1/1 [==============================] - 0s 39ms/step\n",
            "1/1 [==============================] - 0s 45ms/step\n",
            "1/1 [==============================] - 0s 39ms/step\n",
            "1/1 [==============================] - 0s 62ms/step\n",
            "1/1 [==============================] - 0s 35ms/step\n",
            "1/1 [==============================] - 0s 43ms/step\n",
            "1/1 [==============================] - 0s 45ms/step\n",
            "1/1 [==============================] - 0s 32ms/step\n",
            "1/1 [==============================] - 0s 69ms/step\n",
            "1/1 [==============================] - 0s 41ms/step\n",
            "1/1 [==============================] - 0s 47ms/step\n",
            "1/1 [==============================] - 0s 59ms/step\n",
            "1/1 [==============================] - 0s 57ms/step\n",
            "1/1 [==============================] - 0s 26ms/step\n",
            "1/1 [==============================] - 0s 25ms/step\n",
            "1/1 [==============================] - 0s 30ms/step\n",
            "1/1 [==============================] - 0s 26ms/step\n",
            "1/1 [==============================] - 0s 25ms/step\n",
            "1/1 [==============================] - 0s 25ms/step\n",
            "1/1 [==============================] - 0s 25ms/step\n",
            "1/1 [==============================] - 0s 26ms/step\n",
            "1/1 [==============================] - 0s 147ms/step\n"
          ]
        }
      ]
    },
    {
      "cell_type": "code",
      "source": [
        "ultimo_label_train = labels_train.pop()\n",
        "ultima_prediccion_train = predicciones_train.pop()\n",
        "\n",
        "labels_train = np.array([np.argmax(i, axis = - 1) for i in labels_train]).flatten()\n",
        "predicciones_train = np.array(predicciones_train).flatten()\n",
        "\n",
        "ultimo_label_train = np.array([np.argmax(i, axis = - 1) for i in ultimo_label_train]).flatten()\n",
        "labels_train = np.concatenate((labels_train, ultimo_label_train))\n",
        "predicciones_train = np.concatenate((predicciones_train, ultima_prediccion_train))"
      ],
      "metadata": {
        "id": "P-wjRAS8hwoe"
      },
      "execution_count": null,
      "outputs": []
    },
    {
      "cell_type": "code",
      "source": [
        "#predicciones_test = model.predict(images_test)\n",
        "\n",
        "cf = metrics.confusion_matrix(labels_train,predicciones_train)\n",
        "print(cf)\n",
        "## this command is only for google collab\n",
        "## in the below figure \" 1 is actually showing -1 and 0 is actually showing 1\"\n",
        "fig, ax = plot_confusion_matrix(conf_mat = cf)\n",
        "plt.xlabel('Predicciones')\n",
        "plt.ylabel('Valores esperados')\n",
        "\n",
        "## It canbe used in any platform\n",
        "# fig, ax = plot_confusion_matrix(conf_mat = cf, class_names = [1,-1])\n",
        "plt.show()\n",
        "\n",
        "print(metrics.classification_report(labels_train,predicciones_train))"
      ],
      "metadata": {
        "id": "iqLKqwgHh5Wt",
        "colab": {
          "base_uri": "https://localhost:8080/",
          "height": 554
        },
        "outputId": "5bcb59be-9dff-4522-eaee-395624b96dee"
      },
      "execution_count": null,
      "outputs": [
        {
          "output_type": "stream",
          "name": "stdout",
          "text": [
            "[[218   5   8  33]\n",
            " [ 15 213  57  22]\n",
            " [ 10  15 178  47]\n",
            " [ 13  13  14 284]]\n"
          ]
        },
        {
          "output_type": "display_data",
          "data": {
            "text/plain": [
              "<Figure size 432x288 with 1 Axes>"
            ],
            "image/png": "[encoded data removed]"
          },
          "metadata": {
            "needs_background": "light"
          }
        },
        {
          "output_type": "stream",
          "name": "stdout",
          "text": [
            "              precision    recall  f1-score   support\n",
            "\n",
            "           0       0.85      0.83      0.84       264\n",
            "           1       0.87      0.69      0.77       307\n",
            "           2       0.69      0.71      0.70       250\n",
            "           3       0.74      0.88      0.80       324\n",
            "\n",
            "    accuracy                           0.78      1145\n",
            "   macro avg       0.79      0.78      0.78      1145\n",
            "weighted avg       0.79      0.78      0.78      1145\n",
            "\n"
          ]
        }
      ]
    },
    {
      "cell_type": "code",
      "source": [],
      "metadata": {
        "id": "lNXYCZzoPfCw"
      },
      "execution_count": null,
      "outputs": []
    },
    {
      "cell_type": "code",
      "source": [
        "validation_dataset"
      ],
      "metadata": {
        "colab": {
          "base_uri": "https://localhost:8080/"
        },
        "outputId": "20187922-74f4-40af-a635-25a88e99430d",
        "id": "mpyKBsT5PgyF"
      },
      "execution_count": null,
      "outputs": [
        {
          "output_type": "execute_result",
          "data": {
            "text/plain": [
              "<BatchDataset element_spec=(TensorSpec(shape=(None, 180, 180, 3), dtype=tf.float32, name=None), TensorSpec(shape=(None, 4), dtype=tf.float32, name=None))>"
            ]
          },
          "metadata": {},
          "execution_count": 19
        }
      ]
    },
    {
      "cell_type": "code",
      "source": [
        "predicciones_val_train = []  # store predicted labels\n",
        "labels_val_train = []  # store true labels\n",
        "\n",
        "# iterate over the dataset\n",
        "for image_batch, label_batch in validation_dataset:   # use dataset.unbatch() with repeat\n",
        "   # append true labels\n",
        "   labels_val_train.append(label_batch)\n",
        "   # compute predictions\n",
        "   preds = model.predict(image_batch)\n",
        "   # append predicted labels\n",
        "   predicciones_val_train.append(np.argmax(preds, axis = - 1))"
      ],
      "metadata": {
        "colab": {
          "base_uri": "https://localhost:8080/"
        },
        "outputId": "cc260a38-18d2-4f98-9fdd-991ec514b490",
        "id": "N5qctZfaPgyG"
      },
      "execution_count": null,
      "outputs": [
        {
          "output_type": "stream",
          "name": "stdout",
          "text": [
            "1/1 [==============================] - 0s 38ms/step\n",
            "1/1 [==============================] - 0s 62ms/step\n",
            "1/1 [==============================] - 0s 32ms/step\n",
            "1/1 [==============================] - 0s 41ms/step\n",
            "1/1 [==============================] - 0s 31ms/step\n",
            "1/1 [==============================] - 0s 30ms/step\n",
            "1/1 [==============================] - 0s 32ms/step\n",
            "1/1 [==============================] - 0s 26ms/step\n",
            "1/1 [==============================] - 0s 28ms/step\n",
            "1/1 [==============================] - 0s 30ms/step\n",
            "1/1 [==============================] - 0s 31ms/step\n",
            "1/1 [==============================] - 0s 25ms/step\n",
            "1/1 [==============================] - 0s 25ms/step\n",
            "1/1 [==============================] - 0s 25ms/step\n",
            "1/1 [==============================] - 0s 27ms/step\n",
            "1/1 [==============================] - 0s 21ms/step\n"
          ]
        }
      ]
    },
    {
      "cell_type": "code",
      "source": [
        "ultimo_label_val_train = labels_val_train.pop()\n",
        "ultima_prediccion_val_train = predicciones_val_train.pop()\n",
        "\n",
        "labels_val_train = np.array([np.argmax(i, axis = - 1) for i in labels_val_train]).flatten()\n",
        "predicciones_val_train = np.array(predicciones_val_train).flatten()\n",
        "\n",
        "labels_val_train = np.concatenate((labels_val_train, np.argmax(ultimo_label_val_train, axis = - 1)))\n",
        "predicciones_val_train = np.concatenate((predicciones_val_train, ultima_prediccion_val_train))"
      ],
      "metadata": {
        "id": "0e777m0DPgyG"
      },
      "execution_count": null,
      "outputs": []
    },
    {
      "cell_type": "code",
      "source": [
        "#predicciones_test = model.predict(images_test)\n",
        "\n",
        "cf = metrics.confusion_matrix(labels_val_train,predicciones_val_train)\n",
        "print(cf)\n",
        "## this command is only for google collab\n",
        "## in the below figure \" 1 is actually showing -1 and 0 is actually showing 1\"\n",
        "fig, ax = plot_confusion_matrix(conf_mat = cf)\n",
        "plt.xlabel('Predicciones')\n",
        "plt.ylabel('Valores esperados')\n",
        "\n",
        "## It canbe used in any platform\n",
        "# fig, ax = plot_confusion_matrix(conf_mat = cf, class_names = [1,-1])\n",
        "plt.show()\n",
        "\n",
        "print(metrics.classification_report(labels_val_train,predicciones_val_train))"
      ],
      "metadata": {
        "colab": {
          "base_uri": "https://localhost:8080/",
          "height": 554
        },
        "outputId": "9903dd0a-2b02-45ab-8a34-6055fc3cadc8",
        "id": "Grs5cJ2hPgyG"
      },
      "execution_count": null,
      "outputs": [
        {
          "output_type": "stream",
          "name": "stdout",
          "text": [
            "[[ 82   4   3  23]\n",
            " [  7  84  21  19]\n",
            " [  5  14  70  18]\n",
            " [ 20   9   6 103]]\n"
          ]
        },
        {
          "output_type": "display_data",
          "data": {
            "text/plain": [
              "<Figure size 432x288 with 1 Axes>"
            ],
            "image/png": "[encoded data removed]"
          },
          "metadata": {
            "needs_background": "light"
          }
        },
        {
          "output_type": "stream",
          "name": "stdout",
          "text": [
            "              precision    recall  f1-score   support\n",
            "\n",
            "           0       0.72      0.73      0.73       112\n",
            "           1       0.76      0.64      0.69       131\n",
            "           2       0.70      0.65      0.68       107\n",
            "           3       0.63      0.75      0.68       138\n",
            "\n",
            "    accuracy                           0.69       488\n",
            "   macro avg       0.70      0.69      0.70       488\n",
            "weighted avg       0.70      0.69      0.69       488\n",
            "\n"
          ]
        }
      ]
    },
    {
      "cell_type": "code",
      "source": [
        "test_dataset"
      ],
      "metadata": {
        "id": "XhtvNCs4cwwP",
        "colab": {
          "base_uri": "https://localhost:8080/"
        },
        "outputId": "dc0aa39a-e887-472a-d23d-c629ba41fb58"
      },
      "execution_count": null,
      "outputs": [
        {
          "output_type": "execute_result",
          "data": {
            "text/plain": [
              "<BatchDataset element_spec=(TensorSpec(shape=(None, 180, 180, 3), dtype=tf.float32, name=None), TensorSpec(shape=(None, 4), dtype=tf.float32, name=None))>"
            ]
          },
          "metadata": {},
          "execution_count": 23
        }
      ]
    },
    {
      "cell_type": "code",
      "source": [
        "predicciones_test = []  # store predicted labels\n",
        "labels_test = []  # store true labels\n",
        "\n",
        "# iterate over the dataset\n",
        "for image_batch, label_batch in test_dataset:   # use dataset.unbatch() with repeat\n",
        "   # append true labels\n",
        "   labels_test.append(label_batch)\n",
        "   # compute predictions\n",
        "   preds = model.predict(image_batch)\n",
        "   # append predicted labels\n",
        "   predicciones_test.append(np.argmax(preds, axis = - 1))"
      ],
      "metadata": {
        "id": "PasW8OamdOa_",
        "colab": {
          "base_uri": "https://localhost:8080/"
        },
        "outputId": "08fd2332-ef76-4c79-a679-0ba8dc37c8e5"
      },
      "execution_count": null,
      "outputs": [
        {
          "output_type": "stream",
          "name": "stdout",
          "text": [
            "1/1 [==============================] - 0s 27ms/step\n",
            "1/1 [==============================] - 0s 29ms/step\n"
          ]
        }
      ]
    },
    {
      "cell_type": "code",
      "source": [
        "labels_test = np.array([np.argmax(i, axis = - 1) for i in labels_test]).flatten()\n",
        "predicciones_test = np.array(predicciones_test).flatten()"
      ],
      "metadata": {
        "id": "1dgSb6ZKeDVo"
      },
      "execution_count": null,
      "outputs": []
    },
    {
      "cell_type": "code",
      "source": [
        "#predicciones_test = model.predict(images_test)\n",
        "\n",
        "cf = metrics.confusion_matrix(labels_test,predicciones_test)\n",
        "print(cf)\n",
        "## this command is only for google collab\n",
        "## in the below figure \" 1 is actually showing -1 and 0 is actually showing 1\"\n",
        "fig, ax = plot_confusion_matrix(conf_mat = cf)\n",
        "plt.xlabel('Predicciones')\n",
        "plt.ylabel('Valores esperados')\n",
        "\n",
        "## It canbe used in any platform\n",
        "# fig, ax = plot_confusion_matrix(conf_mat = cf, class_names = [1,-1])\n",
        "plt.show()\n",
        "\n",
        "print(metrics.classification_report(labels_test,predicciones_test))"
      ],
      "metadata": {
        "id": "394fCXTBZN4m",
        "colab": {
          "base_uri": "https://localhost:8080/",
          "height": 554
        },
        "outputId": "7647485f-16c9-4b57-cf8f-c40bd84de1f9"
      },
      "execution_count": null,
      "outputs": [
        {
          "output_type": "stream",
          "name": "stdout",
          "text": [
            "[[11  1  0  4]\n",
            " [ 0  4 11  1]\n",
            " [ 0  2 13  1]\n",
            " [ 3  1  2 10]]\n"
          ]
        },
        {
          "output_type": "display_data",
          "data": {
            "text/plain": [
              "<Figure size 432x288 with 1 Axes>"
            ],
            "image/png": "[encoded data removed]"
          },
          "metadata": {
            "needs_background": "light"
          }
        },
        {
          "output_type": "stream",
          "name": "stdout",
          "text": [
            "              precision    recall  f1-score   support\n",
            "\n",
            "           0       0.79      0.69      0.73        16\n",
            "           1       0.50      0.25      0.33        16\n",
            "           2       0.50      0.81      0.62        16\n",
            "           3       0.62      0.62      0.62        16\n",
            "\n",
            "    accuracy                           0.59        64\n",
            "   macro avg       0.60      0.59      0.58        64\n",
            "weighted avg       0.60      0.59      0.58        64\n",
            "\n"
          ]
        }
      ]
    },
    {
      "cell_type": "code",
      "source": [],
      "metadata": {
        "id": "BvfKXaXyl56n"
      },
      "execution_count": null,
      "outputs": []
    },
    {
      "cell_type": "markdown",
      "source": [
        "Guardar el modelo con Tensorflow Lite para correr en Raspberry"
      ],
      "metadata": {
        "id": "tL9uSutRQy1-"
      }
    },
    {
      "cell_type": "code",
      "source": [
        "import tensorflow\n",
        "# Convert the model.\n",
        "converter = tensorflow.lite.TFLiteConverter.from_keras_model(model)\n",
        "tflite_model = converter.convert()\n",
        "\n",
        "# Save the model.\n",
        "with open('model_VGG16.tflite', 'wb') as f:\n",
        "  f.write(tflite_model)"
      ],
      "metadata": {
        "colab": {
          "base_uri": "https://localhost:8080/"
        },
        "id": "UdQEVxH1OoD-",
        "outputId": "fc7436c5-427c-41c1-93fd-5dbf6f6edbc7"
      },
      "execution_count": null,
      "outputs": [
        {
          "output_type": "stream",
          "name": "stderr",
          "text": [
            "WARNING:tensorflow:Using a while_loop for converting RngReadAndSkip cause there is no registered converter for this op.\n",
            "WARNING:tensorflow:Using a while_loop for converting Bitcast cause there is no registered converter for this op.\n",
            "WARNING:tensorflow:Using a while_loop for converting Bitcast cause there is no registered converter for this op.\n",
            "WARNING:tensorflow:Using a while_loop for converting StatelessRandomUniformV2 cause there is no registered converter for this op.\n",
            "WARNING:tensorflow:Using a while_loop for converting ImageProjectiveTransformV3 cause there is no registered converter for this op.\n",
            "WARNING:tensorflow:Using a while_loop for converting RngReadAndSkip cause there is no registered converter for this op.\n",
            "WARNING:tensorflow:Using a while_loop for converting Bitcast cause there is no registered converter for this op.\n",
            "WARNING:tensorflow:Using a while_loop for converting Bitcast cause there is no registered converter for this op.\n",
            "WARNING:tensorflow:Using a while_loop for converting StatelessRandomUniformV2 cause there is no registered converter for this op.\n",
            "WARNING:tensorflow:Using a while_loop for converting ImageProjectiveTransformV3 cause there is no registered converter for this op.\n",
            "WARNING:tensorflow:Using a while_loop for converting RngReadAndSkip cause there is no registered converter for this op.\n",
            "WARNING:tensorflow:Using a while_loop for converting Bitcast cause there is no registered converter for this op.\n",
            "WARNING:tensorflow:Using a while_loop for converting Bitcast cause there is no registered converter for this op.\n",
            "WARNING:tensorflow:Using a while_loop for converting StatelessRandomUniformV2 cause there is no registered converter for this op.\n",
            "WARNING:tensorflow:Using a while_loop for converting ImageProjectiveTransformV3 cause there is no registered converter for this op.\n",
            "WARNING:tensorflow:Using a while_loop for converting RngReadAndSkip cause there is no registered converter for this op.\n",
            "WARNING:tensorflow:Using a while_loop for converting Bitcast cause there is no registered converter for this op.\n",
            "WARNING:tensorflow:Using a while_loop for converting Bitcast cause there is no registered converter for this op.\n",
            "WARNING:tensorflow:Using a while_loop for converting StatelessRandomUniformV2 cause there is no registered converter for this op.\n",
            "WARNING:tensorflow:Using a while_loop for converting ImageProjectiveTransformV3 cause there is no registered converter for this op.\n",
            "WARNING:tensorflow:Using a while_loop for converting RngReadAndSkip cause there is no registered converter for this op.\n",
            "WARNING:tensorflow:Using a while_loop for converting Bitcast cause there is no registered converter for this op.\n",
            "WARNING:tensorflow:Using a while_loop for converting Bitcast cause there is no registered converter for this op.\n",
            "WARNING:tensorflow:Using a while_loop for converting StatelessRandomUniformV2 cause there is no registered converter for this op.\n",
            "WARNING:tensorflow:Using a while_loop for converting ImageProjectiveTransformV3 cause there is no registered converter for this op.\n",
            "WARNING:tensorflow:Using a while_loop for converting RngReadAndSkip cause there is no registered converter for this op.\n",
            "WARNING:tensorflow:Using a while_loop for converting Bitcast cause there is no registered converter for this op.\n",
            "WARNING:tensorflow:Using a while_loop for converting Bitcast cause there is no registered converter for this op.\n",
            "WARNING:tensorflow:Using a while_loop for converting StatelessRandomUniformV2 cause there is no registered converter for this op.\n",
            "WARNING:tensorflow:Using a while_loop for converting ImageProjectiveTransformV3 cause there is no registered converter for this op.\n",
            "WARNING:tensorflow:Using a while_loop for converting RngReadAndSkip cause there is no registered converter for this op.\n",
            "WARNING:tensorflow:Using a while_loop for converting Bitcast cause there is no registered converter for this op.\n",
            "WARNING:tensorflow:Using a while_loop for converting Bitcast cause there is no registered converter for this op.\n",
            "WARNING:tensorflow:Using a while_loop for converting StatelessRandomUniformV2 cause there is no registered converter for this op.\n",
            "WARNING:tensorflow:Using a while_loop for converting ImageProjectiveTransformV3 cause there is no registered converter for this op.\n",
            "WARNING:tensorflow:Using a while_loop for converting RngReadAndSkip cause there is no registered converter for this op.\n",
            "WARNING:tensorflow:Using a while_loop for converting Bitcast cause there is no registered converter for this op.\n",
            "WARNING:tensorflow:Using a while_loop for converting Bitcast cause there is no registered converter for this op.\n",
            "WARNING:tensorflow:Using a while_loop for converting StatelessRandomUniformV2 cause there is no registered converter for this op.\n",
            "WARNING:tensorflow:Using a while_loop for converting ImageProjectiveTransformV3 cause there is no registered converter for this op.\n",
            "WARNING:absl:Found untraced functions such as _jit_compiled_convolution_op, _jit_compiled_convolution_op, _jit_compiled_convolution_op, _jit_compiled_convolution_op, _jit_compiled_convolution_op while saving (showing 5 of 13). These functions will not be directly callable after loading.\n"
          ]
        }
      ]
    },
    {
      "cell_type": "code",
      "source": [],
      "metadata": {
        "id": "GkQOdRieRMhW"
      },
      "execution_count": null,
      "outputs": []
    }
  ]
}
